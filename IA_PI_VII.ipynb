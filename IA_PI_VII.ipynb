{
  "nbformat": 4,
  "nbformat_minor": 0,
  "metadata": {
    "colab": {
      "name": "IA_PI_VII.ipynb",
      "provenance": [],
      "collapsed_sections": []
    },
    "kernelspec": {
      "name": "python3",
      "display_name": "Python 3"
    },
    "accelerator": "GPU"
  },
  "cells": [
    {
      "cell_type": "markdown",
      "metadata": {
        "id": "QiQ3rxdp5lK5"
      },
      "source": [
        "IA PI VII - reconhecimento de cores "
      ]
    },
    {
      "cell_type": "code",
      "metadata": {
        "colab": {
          "base_uri": "https://localhost:8080/"
        },
        "id": "C5RXjJA05nWa",
        "outputId": "9ca200b6-5fb3-45eb-afd9-9e877198cdb4"
      },
      "source": [
        "!pip uninstall -y tensorflow"
      ],
      "execution_count": null,
      "outputs": [
        {
          "output_type": "stream",
          "text": [
            "Uninstalling tensorflow-2.4.1:\n",
            "  Successfully uninstalled tensorflow-2.4.1\n"
          ],
          "name": "stdout"
        }
      ]
    },
    {
      "cell_type": "code",
      "metadata": {
        "colab": {
          "base_uri": "https://localhost:8080/"
        },
        "id": "xm03Wmhw5ibC",
        "outputId": "ab0a004d-20a1-40bb-e64e-34507c87c900"
      },
      "source": [
        "!pip install tensorflow-gpu==2.0"
      ],
      "execution_count": null,
      "outputs": [
        {
          "output_type": "stream",
          "text": [
            "Collecting tensorflow-gpu==2.0\n",
            "\u001b[?25l  Downloading https://files.pythonhosted.org/packages/a1/eb/bc0784af18f612838f90419cf4805c37c20ddb957f5ffe0c42144562dcfa/tensorflow_gpu-2.0.0-cp37-cp37m-manylinux2010_x86_64.whl (380.8MB)\n",
            "\u001b[K     |████████████████████████████████| 380.8MB 47kB/s \n",
            "\u001b[?25hRequirement already satisfied: termcolor>=1.1.0 in /usr/local/lib/python3.7/dist-packages (from tensorflow-gpu==2.0) (1.1.0)\n",
            "Collecting gast==0.2.2\n",
            "  Downloading https://files.pythonhosted.org/packages/4e/35/11749bf99b2d4e3cceb4d55ca22590b0d7c2c62b9de38ac4a4a7f4687421/gast-0.2.2.tar.gz\n",
            "Requirement already satisfied: numpy<2.0,>=1.16.0 in /usr/local/lib/python3.7/dist-packages (from tensorflow-gpu==2.0) (1.19.5)\n",
            "Requirement already satisfied: absl-py>=0.7.0 in /usr/local/lib/python3.7/dist-packages (from tensorflow-gpu==2.0) (0.10.0)\n",
            "Requirement already satisfied: wrapt>=1.11.1 in /usr/local/lib/python3.7/dist-packages (from tensorflow-gpu==2.0) (1.12.1)\n",
            "Requirement already satisfied: six>=1.10.0 in /usr/local/lib/python3.7/dist-packages (from tensorflow-gpu==2.0) (1.15.0)\n",
            "Requirement already satisfied: keras-preprocessing>=1.0.5 in /usr/local/lib/python3.7/dist-packages (from tensorflow-gpu==2.0) (1.1.2)\n",
            "Requirement already satisfied: protobuf>=3.6.1 in /usr/local/lib/python3.7/dist-packages (from tensorflow-gpu==2.0) (3.12.4)\n",
            "Requirement already satisfied: grpcio>=1.8.6 in /usr/local/lib/python3.7/dist-packages (from tensorflow-gpu==2.0) (1.32.0)\n",
            "Requirement already satisfied: astor>=0.6.0 in /usr/local/lib/python3.7/dist-packages (from tensorflow-gpu==2.0) (0.8.1)\n",
            "Collecting tensorflow-estimator<2.1.0,>=2.0.0\n",
            "\u001b[?25l  Downloading https://files.pythonhosted.org/packages/fc/08/8b927337b7019c374719145d1dceba21a8bb909b93b1ad6f8fb7d22c1ca1/tensorflow_estimator-2.0.1-py2.py3-none-any.whl (449kB)\n",
            "\u001b[K     |████████████████████████████████| 450kB 51.3MB/s \n",
            "\u001b[?25hCollecting keras-applications>=1.0.8\n",
            "\u001b[?25l  Downloading https://files.pythonhosted.org/packages/71/e3/19762fdfc62877ae9102edf6342d71b28fbfd9dea3d2f96a882ce099b03f/Keras_Applications-1.0.8-py3-none-any.whl (50kB)\n",
            "\u001b[K     |████████████████████████████████| 51kB 8.7MB/s \n",
            "\u001b[?25hRequirement already satisfied: wheel>=0.26 in /usr/local/lib/python3.7/dist-packages (from tensorflow-gpu==2.0) (0.36.2)\n",
            "Collecting tensorboard<2.1.0,>=2.0.0\n",
            "\u001b[?25l  Downloading https://files.pythonhosted.org/packages/76/54/99b9d5d52d5cb732f099baaaf7740403e83fe6b0cedde940fabd2b13d75a/tensorboard-2.0.2-py3-none-any.whl (3.8MB)\n",
            "\u001b[K     |████████████████████████████████| 3.8MB 51.2MB/s \n",
            "\u001b[?25hRequirement already satisfied: opt-einsum>=2.3.2 in /usr/local/lib/python3.7/dist-packages (from tensorflow-gpu==2.0) (3.3.0)\n",
            "Requirement already satisfied: google-pasta>=0.1.6 in /usr/local/lib/python3.7/dist-packages (from tensorflow-gpu==2.0) (0.2.0)\n",
            "Requirement already satisfied: setuptools in /usr/local/lib/python3.7/dist-packages (from protobuf>=3.6.1->tensorflow-gpu==2.0) (54.0.0)\n",
            "Requirement already satisfied: h5py in /usr/local/lib/python3.7/dist-packages (from keras-applications>=1.0.8->tensorflow-gpu==2.0) (2.10.0)\n",
            "Requirement already satisfied: google-auth<2,>=1.6.3 in /usr/local/lib/python3.7/dist-packages (from tensorboard<2.1.0,>=2.0.0->tensorflow-gpu==2.0) (1.27.0)\n",
            "Requirement already satisfied: markdown>=2.6.8 in /usr/local/lib/python3.7/dist-packages (from tensorboard<2.1.0,>=2.0.0->tensorflow-gpu==2.0) (3.3.4)\n",
            "Requirement already satisfied: google-auth-oauthlib<0.5,>=0.4.1 in /usr/local/lib/python3.7/dist-packages (from tensorboard<2.1.0,>=2.0.0->tensorflow-gpu==2.0) (0.4.2)\n",
            "Requirement already satisfied: requests<3,>=2.21.0 in /usr/local/lib/python3.7/dist-packages (from tensorboard<2.1.0,>=2.0.0->tensorflow-gpu==2.0) (2.23.0)\n",
            "Requirement already satisfied: werkzeug>=0.11.15 in /usr/local/lib/python3.7/dist-packages (from tensorboard<2.1.0,>=2.0.0->tensorflow-gpu==2.0) (1.0.1)\n",
            "Requirement already satisfied: pyasn1-modules>=0.2.1 in /usr/local/lib/python3.7/dist-packages (from google-auth<2,>=1.6.3->tensorboard<2.1.0,>=2.0.0->tensorflow-gpu==2.0) (0.2.8)\n",
            "Requirement already satisfied: cachetools<5.0,>=2.0.0 in /usr/local/lib/python3.7/dist-packages (from google-auth<2,>=1.6.3->tensorboard<2.1.0,>=2.0.0->tensorflow-gpu==2.0) (4.2.1)\n",
            "Requirement already satisfied: rsa<5,>=3.1.4; python_version >= \"3.6\" in /usr/local/lib/python3.7/dist-packages (from google-auth<2,>=1.6.3->tensorboard<2.1.0,>=2.0.0->tensorflow-gpu==2.0) (4.7.2)\n",
            "Requirement already satisfied: importlib-metadata; python_version < \"3.8\" in /usr/local/lib/python3.7/dist-packages (from markdown>=2.6.8->tensorboard<2.1.0,>=2.0.0->tensorflow-gpu==2.0) (3.7.0)\n",
            "Requirement already satisfied: requests-oauthlib>=0.7.0 in /usr/local/lib/python3.7/dist-packages (from google-auth-oauthlib<0.5,>=0.4.1->tensorboard<2.1.0,>=2.0.0->tensorflow-gpu==2.0) (1.3.0)\n",
            "Requirement already satisfied: urllib3!=1.25.0,!=1.25.1,<1.26,>=1.21.1 in /usr/local/lib/python3.7/dist-packages (from requests<3,>=2.21.0->tensorboard<2.1.0,>=2.0.0->tensorflow-gpu==2.0) (1.24.3)\n",
            "Requirement already satisfied: chardet<4,>=3.0.2 in /usr/local/lib/python3.7/dist-packages (from requests<3,>=2.21.0->tensorboard<2.1.0,>=2.0.0->tensorflow-gpu==2.0) (3.0.4)\n",
            "Requirement already satisfied: idna<3,>=2.5 in /usr/local/lib/python3.7/dist-packages (from requests<3,>=2.21.0->tensorboard<2.1.0,>=2.0.0->tensorflow-gpu==2.0) (2.10)\n",
            "Requirement already satisfied: certifi>=2017.4.17 in /usr/local/lib/python3.7/dist-packages (from requests<3,>=2.21.0->tensorboard<2.1.0,>=2.0.0->tensorflow-gpu==2.0) (2020.12.5)\n",
            "Requirement already satisfied: pyasn1<0.5.0,>=0.4.6 in /usr/local/lib/python3.7/dist-packages (from pyasn1-modules>=0.2.1->google-auth<2,>=1.6.3->tensorboard<2.1.0,>=2.0.0->tensorflow-gpu==2.0) (0.4.8)\n",
            "Requirement already satisfied: typing-extensions>=3.6.4; python_version < \"3.8\" in /usr/local/lib/python3.7/dist-packages (from importlib-metadata; python_version < \"3.8\"->markdown>=2.6.8->tensorboard<2.1.0,>=2.0.0->tensorflow-gpu==2.0) (3.7.4.3)\n",
            "Requirement already satisfied: zipp>=0.5 in /usr/local/lib/python3.7/dist-packages (from importlib-metadata; python_version < \"3.8\"->markdown>=2.6.8->tensorboard<2.1.0,>=2.0.0->tensorflow-gpu==2.0) (3.4.0)\n",
            "Requirement already satisfied: oauthlib>=3.0.0 in /usr/local/lib/python3.7/dist-packages (from requests-oauthlib>=0.7.0->google-auth-oauthlib<0.5,>=0.4.1->tensorboard<2.1.0,>=2.0.0->tensorflow-gpu==2.0) (3.1.0)\n",
            "Building wheels for collected packages: gast\n",
            "  Building wheel for gast (setup.py) ... \u001b[?25l\u001b[?25hdone\n",
            "  Created wheel for gast: filename=gast-0.2.2-cp37-none-any.whl size=7540 sha256=515d230481b3b394054fb7876d48cd7fedaa9f8a0ca3feaf3188cfb26598c93a\n",
            "  Stored in directory: /root/.cache/pip/wheels/5c/2e/7e/a1d4d4fcebe6c381f378ce7743a3ced3699feb89bcfbdadadd\n",
            "Successfully built gast\n",
            "\u001b[31mERROR: tensorflow-probability 0.12.1 has requirement gast>=0.3.2, but you'll have gast 0.2.2 which is incompatible.\u001b[0m\n",
            "Installing collected packages: gast, tensorflow-estimator, keras-applications, tensorboard, tensorflow-gpu\n",
            "  Found existing installation: gast 0.3.3\n",
            "    Uninstalling gast-0.3.3:\n",
            "      Successfully uninstalled gast-0.3.3\n",
            "  Found existing installation: tensorflow-estimator 2.4.0\n",
            "    Uninstalling tensorflow-estimator-2.4.0:\n",
            "      Successfully uninstalled tensorflow-estimator-2.4.0\n",
            "  Found existing installation: tensorboard 2.4.1\n",
            "    Uninstalling tensorboard-2.4.1:\n",
            "      Successfully uninstalled tensorboard-2.4.1\n",
            "Successfully installed gast-0.2.2 keras-applications-1.0.8 tensorboard-2.0.2 tensorflow-estimator-2.0.1 tensorflow-gpu-2.0.0\n"
          ],
          "name": "stdout"
        }
      ]
    },
    {
      "cell_type": "code",
      "metadata": {
        "id": "Sc6QRxfS6EOs"
      },
      "source": [
        "from tensorflow.keras.preprocessing.image import ImageDataGenerator\r\n",
        "from PIL import Image\r\n",
        "import numpy as np\r\n",
        "import os\r\n",
        "import tensorflow as tf"
      ],
      "execution_count": null,
      "outputs": []
    },
    {
      "cell_type": "code",
      "metadata": {
        "id": "j6cAmFgh6SEI"
      },
      "source": [
        "dataset_path = '/content/drive/MyDrive/datasets/PI-VII/dataset'"
      ],
      "execution_count": null,
      "outputs": []
    },
    {
      "cell_type": "code",
      "metadata": {
        "id": "zwS9C2dx6WOn"
      },
      "source": [
        "train_dir = os.path.join(dataset_path,'train')\r\n",
        "validation_dir = os.path.join(dataset_path,'validation')"
      ],
      "execution_count": null,
      "outputs": []
    },
    {
      "cell_type": "code",
      "metadata": {
        "id": "VnKHruq66bwA"
      },
      "source": [
        "data_gen_train = ImageDataGenerator(rescale=1./255)\r\n",
        "data_gen_validation = ImageDataGenerator(rescale=1./255)"
      ],
      "execution_count": null,
      "outputs": []
    },
    {
      "cell_type": "code",
      "metadata": {
        "colab": {
          "base_uri": "https://localhost:8080/"
        },
        "id": "HZjdz8ij6ecX",
        "outputId": "b8cef7d0-84f5-4cb4-dc70-f8dcbcaf04a2"
      },
      "source": [
        "train_generator = data_gen_train.flow_from_directory(train_dir,target_size=(128,128), batch_size=32 )\r\n",
        "validation_generator = data_gen_validation.flow_from_directory(validation_dir,target_size=(128,128), batch_size=32)"
      ],
      "execution_count": null,
      "outputs": [
        {
          "output_type": "stream",
          "text": [
            "Found 354 images belonging to 4 classes.\n",
            "Found 133 images belonging to 4 classes.\n"
          ],
          "name": "stdout"
        }
      ]
    },
    {
      "cell_type": "code",
      "metadata": {
        "colab": {
          "base_uri": "https://localhost:8080/"
        },
        "id": "omNPG1b16mCf",
        "outputId": "00c6563f-f656-43bb-d26d-0c3b861d2233"
      },
      "source": [
        "model = tf.keras.models.Sequential()\r\n",
        "model.add(tf.keras.layers.Conv2D(filters=32, kernel_size=3, padding=\"same\", activation=\"relu\", input_shape=[128, 128, 3]))\r\n",
        "\r\n",
        "model.add(tf.keras.layers.Conv2D(filters=32, kernel_size=3, padding=\"same\", activation=\"relu\"))\r\n",
        "model.add(tf.keras.layers.MaxPool2D(pool_size=2, strides=2, padding='valid'))\r\n",
        "\r\n",
        "model.add(tf.keras.layers.Conv2D(filters=64, kernel_size=3, padding=\"same\", activation=\"relu\"))\r\n",
        "model.add(tf.keras.layers.MaxPool2D(pool_size=2, strides=2, padding='valid'))\r\n",
        "\r\n",
        "model.add(tf.keras.layers.Conv2D(filters=128, kernel_size=3, padding=\"same\", activation=\"relu\"))\r\n",
        "model.add(tf.keras.layers.MaxPool2D(pool_size=2, strides=2, padding='valid'))\r\n",
        "\r\n",
        "model.add(tf.keras.layers.Flatten())\r\n",
        "\r\n",
        "model.add(tf.keras.layers.Dense(units=4, activation='softmax'))\r\n",
        "\r\n",
        "model.summary()"
      ],
      "execution_count": null,
      "outputs": [
        {
          "output_type": "stream",
          "text": [
            "Model: \"sequential\"\n",
            "_________________________________________________________________\n",
            "Layer (type)                 Output Shape              Param #   \n",
            "=================================================================\n",
            "conv2d (Conv2D)              (None, 128, 128, 32)      896       \n",
            "_________________________________________________________________\n",
            "conv2d_1 (Conv2D)            (None, 128, 128, 32)      9248      \n",
            "_________________________________________________________________\n",
            "max_pooling2d (MaxPooling2D) (None, 64, 64, 32)        0         \n",
            "_________________________________________________________________\n",
            "conv2d_2 (Conv2D)            (None, 64, 64, 64)        18496     \n",
            "_________________________________________________________________\n",
            "max_pooling2d_1 (MaxPooling2 (None, 32, 32, 64)        0         \n",
            "_________________________________________________________________\n",
            "conv2d_3 (Conv2D)            (None, 32, 32, 128)       73856     \n",
            "_________________________________________________________________\n",
            "max_pooling2d_2 (MaxPooling2 (None, 16, 16, 128)       0         \n",
            "_________________________________________________________________\n",
            "flatten (Flatten)            (None, 32768)             0         \n",
            "_________________________________________________________________\n",
            "dense (Dense)                (None, 4)                 131076    \n",
            "=================================================================\n",
            "Total params: 233,572\n",
            "Trainable params: 233,572\n",
            "Non-trainable params: 0\n",
            "_________________________________________________________________\n"
          ],
          "name": "stdout"
        }
      ]
    },
    {
      "cell_type": "code",
      "metadata": {
        "id": "vGaHSF5D6ny_"
      },
      "source": [
        "model.compile(loss=\"categorical_crossentropy\",\r\n",
        "              optimizer=tf.keras.optimizers.Adam(learning_rate=0.0001), metrics=[\"accuracy\"])"
      ],
      "execution_count": null,
      "outputs": []
    },
    {
      "cell_type": "code",
      "metadata": {
        "colab": {
          "base_uri": "https://localhost:8080/"
        },
        "id": "t6f5VL9q6qOg",
        "outputId": "16ee8a0c-dc0c-4d63-8cf6-05347a441a00"
      },
      "source": [
        "history = model.fit_generator(train_generator, epochs=50, validation_data=validation_generator)"
      ],
      "execution_count": null,
      "outputs": [
        {
          "output_type": "stream",
          "text": [
            "Epoch 1/50\n",
            "12/12 [==============================] - 116s 10s/step - loss: 1.3717 - accuracy: 0.3588 - val_loss: 1.3172 - val_accuracy: 0.3759\n",
            "Epoch 2/50\n",
            "12/12 [==============================] - 2s 147ms/step - loss: 1.2768 - accuracy: 0.4124 - val_loss: 1.2730 - val_accuracy: 0.3759\n",
            "Epoch 3/50\n",
            "12/12 [==============================] - 2s 187ms/step - loss: 1.2284 - accuracy: 0.4294 - val_loss: 1.2223 - val_accuracy: 0.3835\n",
            "Epoch 4/50\n",
            "12/12 [==============================] - 2s 188ms/step - loss: 1.2214 - accuracy: 0.4944 - val_loss: 1.1847 - val_accuracy: 0.4511\n",
            "Epoch 5/50\n",
            "12/12 [==============================] - 2s 186ms/step - loss: 1.2033 - accuracy: 0.4774 - val_loss: 1.1421 - val_accuracy: 0.3985\n",
            "Epoch 6/50\n",
            "12/12 [==============================] - 2s 186ms/step - loss: 1.1387 - accuracy: 0.4859 - val_loss: 1.1675 - val_accuracy: 0.3910\n",
            "Epoch 7/50\n",
            "12/12 [==============================] - 2s 201ms/step - loss: 1.1191 - accuracy: 0.4831 - val_loss: 1.2395 - val_accuracy: 0.4812\n",
            "Epoch 8/50\n",
            "12/12 [==============================] - 2s 191ms/step - loss: 1.1418 - accuracy: 0.5367 - val_loss: 1.1589 - val_accuracy: 0.4962\n",
            "Epoch 9/50\n",
            "12/12 [==============================] - 2s 183ms/step - loss: 1.0271 - accuracy: 0.5537 - val_loss: 1.2298 - val_accuracy: 0.4737\n",
            "Epoch 10/50\n",
            "12/12 [==============================] - 2s 186ms/step - loss: 1.0794 - accuracy: 0.5226 - val_loss: 1.1539 - val_accuracy: 0.5639\n",
            "Epoch 11/50\n",
            "12/12 [==============================] - 2s 185ms/step - loss: 1.0530 - accuracy: 0.6102 - val_loss: 1.1948 - val_accuracy: 0.5414\n",
            "Epoch 12/50\n",
            "12/12 [==============================] - 2s 187ms/step - loss: 1.0065 - accuracy: 0.5621 - val_loss: 1.0911 - val_accuracy: 0.5263\n",
            "Epoch 13/50\n",
            "12/12 [==============================] - 2s 187ms/step - loss: 1.0288 - accuracy: 0.6299 - val_loss: 1.1224 - val_accuracy: 0.5489\n",
            "Epoch 14/50\n",
            "12/12 [==============================] - 2s 191ms/step - loss: 0.9702 - accuracy: 0.6412 - val_loss: 1.0667 - val_accuracy: 0.5414\n",
            "Epoch 15/50\n",
            "12/12 [==============================] - 2s 185ms/step - loss: 0.8732 - accuracy: 0.6469 - val_loss: 1.0519 - val_accuracy: 0.5414\n",
            "Epoch 16/50\n",
            "12/12 [==============================] - 2s 184ms/step - loss: 0.8303 - accuracy: 0.6610 - val_loss: 1.0625 - val_accuracy: 0.5414\n",
            "Epoch 17/50\n",
            "12/12 [==============================] - 2s 183ms/step - loss: 0.8670 - accuracy: 0.6412 - val_loss: 1.0805 - val_accuracy: 0.4887\n",
            "Epoch 18/50\n",
            "12/12 [==============================] - 2s 185ms/step - loss: 0.8066 - accuracy: 0.6723 - val_loss: 1.0434 - val_accuracy: 0.5714\n",
            "Epoch 19/50\n",
            "12/12 [==============================] - 2s 184ms/step - loss: 0.7493 - accuracy: 0.7119 - val_loss: 1.0623 - val_accuracy: 0.5564\n",
            "Epoch 20/50\n",
            "12/12 [==============================] - 2s 178ms/step - loss: 0.7456 - accuracy: 0.7062 - val_loss: 1.0536 - val_accuracy: 0.5865\n",
            "Epoch 21/50\n",
            "12/12 [==============================] - 2s 192ms/step - loss: 0.8297 - accuracy: 0.7006 - val_loss: 1.0781 - val_accuracy: 0.5940\n",
            "Epoch 22/50\n",
            "12/12 [==============================] - 2s 181ms/step - loss: 0.7048 - accuracy: 0.7373 - val_loss: 1.0474 - val_accuracy: 0.5714\n",
            "Epoch 23/50\n",
            "12/12 [==============================] - 2s 176ms/step - loss: 0.7225 - accuracy: 0.7119 - val_loss: 1.1697 - val_accuracy: 0.5639\n",
            "Epoch 24/50\n",
            "12/12 [==============================] - 2s 189ms/step - loss: 0.7155 - accuracy: 0.7062 - val_loss: 1.0782 - val_accuracy: 0.5639\n",
            "Epoch 25/50\n",
            "12/12 [==============================] - 2s 189ms/step - loss: 0.6806 - accuracy: 0.7458 - val_loss: 1.1468 - val_accuracy: 0.4812\n",
            "Epoch 26/50\n",
            "12/12 [==============================] - 2s 185ms/step - loss: 0.6134 - accuracy: 0.7514 - val_loss: 1.0742 - val_accuracy: 0.5940\n",
            "Epoch 27/50\n",
            "12/12 [==============================] - 2s 190ms/step - loss: 0.5947 - accuracy: 0.7853 - val_loss: 1.2891 - val_accuracy: 0.5338\n",
            "Epoch 28/50\n",
            "12/12 [==============================] - 2s 194ms/step - loss: 0.6590 - accuracy: 0.7797 - val_loss: 1.5949 - val_accuracy: 0.5789\n",
            "Epoch 29/50\n",
            "12/12 [==============================] - 2s 184ms/step - loss: 0.6509 - accuracy: 0.7712 - val_loss: 1.6801 - val_accuracy: 0.5338\n",
            "Epoch 30/50\n",
            "12/12 [==============================] - 2s 190ms/step - loss: 0.5621 - accuracy: 0.8107 - val_loss: 1.1894 - val_accuracy: 0.6015\n",
            "Epoch 31/50\n",
            "12/12 [==============================] - 2s 177ms/step - loss: 0.5956 - accuracy: 0.7768 - val_loss: 1.4071 - val_accuracy: 0.5188\n",
            "Epoch 32/50\n",
            "12/12 [==============================] - 2s 182ms/step - loss: 0.6158 - accuracy: 0.7571 - val_loss: 1.2067 - val_accuracy: 0.5865\n",
            "Epoch 33/50\n",
            "12/12 [==============================] - 2s 192ms/step - loss: 0.5620 - accuracy: 0.8446 - val_loss: 1.2127 - val_accuracy: 0.5564\n",
            "Epoch 34/50\n",
            "12/12 [==============================] - 2s 185ms/step - loss: 0.5102 - accuracy: 0.8079 - val_loss: 1.3829 - val_accuracy: 0.5188\n",
            "Epoch 35/50\n",
            "12/12 [==============================] - 2s 185ms/step - loss: 0.4893 - accuracy: 0.8390 - val_loss: 1.2762 - val_accuracy: 0.5714\n",
            "Epoch 36/50\n",
            "12/12 [==============================] - 2s 186ms/step - loss: 0.4973 - accuracy: 0.8220 - val_loss: 1.3450 - val_accuracy: 0.5940\n",
            "Epoch 37/50\n",
            "12/12 [==============================] - 2s 186ms/step - loss: 0.4947 - accuracy: 0.8333 - val_loss: 1.3761 - val_accuracy: 0.5714\n",
            "Epoch 38/50\n",
            "12/12 [==============================] - 2s 186ms/step - loss: 0.4924 - accuracy: 0.8418 - val_loss: 1.2730 - val_accuracy: 0.5113\n",
            "Epoch 39/50\n",
            "12/12 [==============================] - 2s 181ms/step - loss: 0.4445 - accuracy: 0.8559 - val_loss: 1.3647 - val_accuracy: 0.5865\n",
            "Epoch 40/50\n",
            "12/12 [==============================] - 2s 193ms/step - loss: 0.4064 - accuracy: 0.8616 - val_loss: 1.3700 - val_accuracy: 0.5263\n",
            "Epoch 41/50\n",
            "12/12 [==============================] - 2s 184ms/step - loss: 0.4187 - accuracy: 0.8701 - val_loss: 1.5892 - val_accuracy: 0.5564\n",
            "Epoch 42/50\n",
            "12/12 [==============================] - 2s 184ms/step - loss: 0.4877 - accuracy: 0.8277 - val_loss: 1.3152 - val_accuracy: 0.5188\n",
            "Epoch 43/50\n",
            "12/12 [==============================] - 2s 178ms/step - loss: 0.4296 - accuracy: 0.8644 - val_loss: 1.3353 - val_accuracy: 0.5639\n",
            "Epoch 44/50\n",
            "12/12 [==============================] - 2s 177ms/step - loss: 0.3574 - accuracy: 0.8983 - val_loss: 1.3137 - val_accuracy: 0.5263\n",
            "Epoch 45/50\n",
            "12/12 [==============================] - 2s 186ms/step - loss: 0.3684 - accuracy: 0.8785 - val_loss: 1.3668 - val_accuracy: 0.5414\n",
            "Epoch 46/50\n",
            "12/12 [==============================] - 2s 195ms/step - loss: 0.4290 - accuracy: 0.8475 - val_loss: 1.3958 - val_accuracy: 0.5639\n",
            "Epoch 47/50\n",
            "12/12 [==============================] - 2s 178ms/step - loss: 0.3956 - accuracy: 0.8701 - val_loss: 1.3894 - val_accuracy: 0.5564\n",
            "Epoch 48/50\n",
            "12/12 [==============================] - 2s 189ms/step - loss: 0.3572 - accuracy: 0.8870 - val_loss: 1.4492 - val_accuracy: 0.5113\n",
            "Epoch 49/50\n",
            "12/12 [==============================] - 2s 183ms/step - loss: 0.3834 - accuracy: 0.8672 - val_loss: 1.5575 - val_accuracy: 0.5414\n",
            "Epoch 50/50\n",
            "12/12 [==============================] - 2s 191ms/step - loss: 0.3443 - accuracy: 0.8983 - val_loss: 1.4549 - val_accuracy: 0.5038\n"
          ],
          "name": "stdout"
        }
      ]
    },
    {
      "cell_type": "code",
      "metadata": {
        "id": "i1KXd1ib6tlI"
      },
      "source": [
        "valid_loss, valid_accuracy = model.evaluate_generator(validation_generator)\r\n",
        "# predict = model.predict_generator(validation_generator,validation_generator.n//validation_generator.batch_size,verbose=1)\r\n"
      ],
      "execution_count": null,
      "outputs": []
    },
    {
      "cell_type": "markdown",
      "metadata": {
        "id": "1sGHWezm63D_"
      },
      "source": [
        "Salvar Model "
      ]
    },
    {
      "cell_type": "code",
      "metadata": {
        "id": "YMTTA5gw62pq"
      },
      "source": [
        "model_name = \"IA_PI-VII.h5\"\r\n",
        "tf.keras.models.save_model(model,model_name)"
      ],
      "execution_count": null,
      "outputs": []
    },
    {
      "cell_type": "markdown",
      "metadata": {
        "id": "XfRIa4u87V3P"
      },
      "source": [
        "Importando novos modulos para testes das novas imagens "
      ]
    },
    {
      "cell_type": "code",
      "metadata": {
        "id": "oZw0el0r7SX_"
      },
      "source": [
        "import tensorflow.compat.v1 as tf\r\n",
        "from PIL import Image\r\n",
        "import numpy as np\r\n",
        "import os\r\n",
        "tf.disable_v2_behavior()"
      ],
      "execution_count": null,
      "outputs": []
    },
    {
      "cell_type": "markdown",
      "metadata": {
        "id": "r43eEbYy7Fuf"
      },
      "source": [
        "Importar Modulo e Testar Novas Imagens no modelo"
      ]
    },
    {
      "cell_type": "code",
      "metadata": {
        "colab": {
          "base_uri": "https://localhost:8080/"
        },
        "id": "qHI3R-7K7OeA",
        "outputId": "36633e4c-f4e0-459d-d61e-587c439bf792"
      },
      "source": [
        "model_teste = tf.keras.models.load_model('IA_PI-VII.h5')"
      ],
      "execution_count": null,
      "outputs": [
        {
          "output_type": "stream",
          "text": [
            "WARNING:tensorflow:From /usr/local/lib/python3.7/dist-packages/tensorflow_core/python/ops/resource_variable_ops.py:1630: calling BaseResourceVariable.__init__ (from tensorflow.python.ops.resource_variable_ops) with constraint is deprecated and will be removed in a future version.\n",
            "Instructions for updating:\n",
            "If using Keras pass *_constraint arguments to layers.\n"
          ],
          "name": "stdout"
        }
      ]
    },
    {
      "cell_type": "code",
      "metadata": {
        "colab": {
          "base_uri": "https://localhost:8080/"
        },
        "id": "4yFSsltK7QSY",
        "outputId": "bbbeb7da-5e68-4f05-81ea-cab1c2f3875f"
      },
      "source": [
        "model_teste.summary()"
      ],
      "execution_count": null,
      "outputs": [
        {
          "output_type": "stream",
          "text": [
            "Model: \"sequential\"\n",
            "_________________________________________________________________\n",
            "Layer (type)                 Output Shape              Param #   \n",
            "=================================================================\n",
            "conv2d (Conv2D)              (None, 128, 128, 32)      896       \n",
            "_________________________________________________________________\n",
            "conv2d_1 (Conv2D)            (None, 128, 128, 32)      9248      \n",
            "_________________________________________________________________\n",
            "max_pooling2d (MaxPooling2D) (None, 64, 64, 32)        0         \n",
            "_________________________________________________________________\n",
            "conv2d_2 (Conv2D)            (None, 64, 64, 64)        18496     \n",
            "_________________________________________________________________\n",
            "max_pooling2d_1 (MaxPooling2 (None, 32, 32, 64)        0         \n",
            "_________________________________________________________________\n",
            "conv2d_3 (Conv2D)            (None, 32, 32, 128)       73856     \n",
            "_________________________________________________________________\n",
            "max_pooling2d_2 (MaxPooling2 (None, 16, 16, 128)       0         \n",
            "_________________________________________________________________\n",
            "flatten (Flatten)            (None, 32768)             0         \n",
            "_________________________________________________________________\n",
            "dense (Dense)                (None, 4)                 131076    \n",
            "=================================================================\n",
            "Total params: 233,572\n",
            "Trainable params: 233,572\n",
            "Non-trainable params: 0\n",
            "_________________________________________________________________\n"
          ],
          "name": "stdout"
        }
      ]
    },
    {
      "cell_type": "code",
      "metadata": {
        "id": "jMhyxRnq7fWn"
      },
      "source": [
        "image = Image.open('/content/drive/MyDrive/datasets/PI-VII/dataset/validation/red/100.jpg')"
      ],
      "execution_count": null,
      "outputs": []
    },
    {
      "cell_type": "code",
      "metadata": {
        "id": "R0nMhjYY7huP"
      },
      "source": [
        "resized_image = image.resize((128,128))"
      ],
      "execution_count": null,
      "outputs": []
    },
    {
      "cell_type": "code",
      "metadata": {
        "colab": {
          "base_uri": "https://localhost:8080/"
        },
        "id": "uCWiGTP-7jCX",
        "outputId": "b05003b0-3440-4b1c-d15c-caeb9b5ef08f"
      },
      "source": [
        "resized_image.size"
      ],
      "execution_count": null,
      "outputs": [
        {
          "output_type": "execute_result",
          "data": {
            "text/plain": [
              "(128, 128)"
            ]
          },
          "metadata": {
            "tags": []
          },
          "execution_count": 109
        }
      ]
    },
    {
      "cell_type": "code",
      "metadata": {
        "id": "slrD4nOXJo1w"
      },
      "source": [
        "img_arr = np.imag(resized_image)"
      ],
      "execution_count": null,
      "outputs": []
    },
    {
      "cell_type": "code",
      "metadata": {
        "colab": {
          "base_uri": "https://localhost:8080/"
        },
        "id": "EhzgqkIMLqIx",
        "outputId": "6a6b383b-4e60-4f9a-9d2a-de7d6565907f"
      },
      "source": [
        "img_arr.shape"
      ],
      "execution_count": null,
      "outputs": [
        {
          "output_type": "execute_result",
          "data": {
            "text/plain": [
              "(128, 128, 3)"
            ]
          },
          "metadata": {
            "tags": []
          },
          "execution_count": 111
        }
      ]
    },
    {
      "cell_type": "code",
      "metadata": {
        "id": "n0X_atbq7kaH"
      },
      "source": [
        "image_predict = np.expand_dims(img_arr,axis=0)"
      ],
      "execution_count": null,
      "outputs": []
    },
    {
      "cell_type": "code",
      "metadata": {
        "colab": {
          "base_uri": "https://localhost:8080/"
        },
        "id": "yCdtAf0c7m3n",
        "outputId": "6ca5b1ef-7a7e-4916-cf4d-2114875d0f1f"
      },
      "source": [
        "image_predict.shape"
      ],
      "execution_count": null,
      "outputs": [
        {
          "output_type": "execute_result",
          "data": {
            "text/plain": [
              "(1, 128, 128, 3)"
            ]
          },
          "metadata": {
            "tags": []
          },
          "execution_count": 114
        }
      ]
    },
    {
      "cell_type": "markdown",
      "metadata": {
        "id": "pYnR-3xU7sMv"
      },
      "source": [
        "Iniciando predict das novas imagens "
      ]
    },
    {
      "cell_type": "code",
      "metadata": {
        "id": "M2cgO1yA7oAP"
      },
      "source": [
        "predict_image = model_teste.predict(image_predict)"
      ],
      "execution_count": null,
      "outputs": []
    },
    {
      "cell_type": "code",
      "metadata": {
        "id": "eRwQIuMN7x7n"
      },
      "source": [
        "labels = {0: 'blue', 1: 'green', 2: 'red', 3: 'yellow'}"
      ],
      "execution_count": null,
      "outputs": []
    },
    {
      "cell_type": "code",
      "metadata": {
        "id": "yjl1T-1u77lp"
      },
      "source": [
        "predicted_class_indices=np.argmax(predict_image,axis=1)"
      ],
      "execution_count": null,
      "outputs": []
    },
    {
      "cell_type": "code",
      "metadata": {
        "colab": {
          "base_uri": "https://localhost:8080/"
        },
        "id": "6Uc3YMEYMoao",
        "outputId": "7bf7e20d-b7f7-4280-da7c-355e336ff66f"
      },
      "source": [
        "predicted_class_indices"
      ],
      "execution_count": null,
      "outputs": [
        {
          "output_type": "execute_result",
          "data": {
            "text/plain": [
              "array([2])"
            ]
          },
          "metadata": {
            "tags": []
          },
          "execution_count": 118
        }
      ]
    },
    {
      "cell_type": "code",
      "metadata": {
        "colab": {
          "base_uri": "https://localhost:8080/",
          "height": 35
        },
        "id": "piF6PkB_7_jv",
        "outputId": "e116184a-8447-48a7-f34f-d0deeda031d2"
      },
      "source": [
        "labels[predicted_class_indices[0]] # classe ao qual pertence a imagem "
      ],
      "execution_count": null,
      "outputs": [
        {
          "output_type": "execute_result",
          "data": {
            "application/vnd.google.colaboratory.intrinsic+json": {
              "type": "string"
            },
            "text/plain": [
              "'red'"
            ]
          },
          "metadata": {
            "tags": []
          },
          "execution_count": 119
        }
      ]
    }
  ]
}